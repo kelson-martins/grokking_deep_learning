{
 "cells": [
  {
   "cell_type": "code",
   "execution_count": 66,
   "metadata": {},
   "outputs": [
    {
     "name": "stdout",
     "output_type": "stream",
     "text": [
      "Error:0.6342311598444467\n",
      "Error:0.35838407676317513\n",
      "Error:0.0830183113303298\n",
      "Error:0.006467054957103705\n",
      "Error:0.0003292669000750734\n",
      "Error:1.5055622665134859e-05\n"
     ]
    }
   ],
   "source": [
    "# deep neural network\n",
    "\n",
    "import numpy as np\n",
    "\n",
    "np.random.seed(1)\n",
    "\n",
    "'''\n",
    "relu function that sets all negative numbers to positive\n",
    "\n",
    "it returns x if x is greater than 0\n",
    "it returns 0 otherwise.\n",
    "'''\n",
    "def relu(x):\n",
    "    return (x > 0) * x\n",
    "\n",
    "'''\n",
    "return 1 for input > 0\n",
    "return 0 otherwuse\n",
    "'''\n",
    "def relu2deriv(output):\n",
    "    return output > 0\n",
    "\n",
    "alpha = 0.2\n",
    "\n",
    "hidden_size = 4\n",
    "\n",
    "street_lights = np.array([[1, 0, 1],\n",
    "                          [0, 1, 1],\n",
    "                          [0, 0, 1],\n",
    "                          [1, 1, 1]])\n",
    "\n",
    "\n",
    "walk_vs_stop = np.array([[1, 1, 0, 0]]).T\n",
    "\n",
    "'''\n",
    "2 sets of weights to connect 3 layers.\n",
    "values are randonly initialized\n",
    "'''\n",
    "weights_0_1 = 2 * np.random.random( (3, hidden_size) ) - 1\n",
    "weights_1_2 = 2 * np.random.random( (hidden_size, 1) ) - 1\n",
    "\n",
    "\n",
    "for iteration in range(60):\n",
    "    \n",
    "    layer_2_error = 0\n",
    "    \n",
    "    for i in range(len(street_lights)):\n",
    "        \n",
    "        # [i : i+1] means starting from 1\n",
    "        layer_0 = street_lights[i : i+1]\n",
    "\n",
    "        '''\n",
    "        the output of layer_1 is sent to the relu function to convert negatives weights become 0\n",
    "        this becomes the input for layer 2\n",
    "        '''\n",
    "\n",
    "        layer_1 = relu(np.dot(layer_0,weights_0_1))\n",
    "        \n",
    "        layer_2 = np.dot(layer_1,weights_1_2)\n",
    "        \n",
    "        layer_2_error += np.sum((layer_2 - walk_vs_stop[i:i+1]) ** 2)\n",
    "        layer_2_delta = (layer_2 - walk_vs_stop[i:i+1])\n",
    "        \n",
    "        layer_1_delta=layer_2_delta.dot(weights_1_2.T)*relu2deriv(layer_1)\n",
    "        \n",
    "        weights_1_2 -= alpha * layer_1.T.dot(layer_2_delta)\n",
    "        weights_0_1 -= alpha * layer_0.T.dot(layer_1_delta) \n",
    "\n",
    "                                     \n",
    "    if(iteration % 10 == 9):\n",
    "        print(\"Error:\" + str(layer_2_error))\n"
   ]
  },
  {
   "cell_type": "code",
   "execution_count": null,
   "metadata": {},
   "outputs": [],
   "source": []
  },
  {
   "cell_type": "code",
   "execution_count": null,
   "metadata": {},
   "outputs": [],
   "source": []
  },
  {
   "cell_type": "code",
   "execution_count": null,
   "metadata": {},
   "outputs": [],
   "source": []
  }
 ],
 "metadata": {
  "kernelspec": {
   "display_name": "Python 3",
   "language": "python",
   "name": "python3"
  },
  "language_info": {
   "codemirror_mode": {
    "name": "ipython",
    "version": 3
   },
   "file_extension": ".py",
   "mimetype": "text/x-python",
   "name": "python",
   "nbconvert_exporter": "python",
   "pygments_lexer": "ipython3",
   "version": "3.6.5"
  }
 },
 "nbformat": 4,
 "nbformat_minor": 2
}
