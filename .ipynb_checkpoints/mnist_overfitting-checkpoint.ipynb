{
 "cells": [
  {
   "cell_type": "code",
   "execution_count": null,
   "metadata": {},
   "outputs": [],
   "source": [
    "'''\n",
    "First implementation on deep nn using mnist dataset.\n",
    "This code is based on the Chapter 8 implementation of Grokking Deep Learning book\n",
    "\n",
    "This implementation has overfitting issues\n",
    "'''"
   ]
  },
  {
   "cell_type": "code",
   "execution_count": null,
   "metadata": {},
   "outputs": [],
   "source": [
    "import sys, numpy as np\n",
    "from keras.datasets import mnist\n",
    "\n",
    "np.random.seed(1)\n",
    "\n",
    "#from IPython.core.debugger import Tracer; Tracer()()\n",
    "\n",
    "(x_train, y_train), (x_test, y_test) = mnist.load_data()\n",
    "\n",
    "images, labels = (x_train[0:1000].reshape(1000,28*28) / 255, y_train[0:1000])\n",
    "\n",
    "\n",
    "def relu(x):\n",
    "    return (x >= 0) * x\n",
    "\n",
    "def relu2deriv(x):\n",
    "    return x >= 0\n",
    "\n",
    "alpha = 0.005\n",
    "iterations = 300\n",
    "neurons = 40\n",
    "pixels = 784\n",
    "num_labels = 10\n",
    "\n",
    "weights_0_1 = 0.2 * np.random.random((pixels, neurons)) - 0.1\n",
    "weights_1_2 = 0.2 * np.random.random((neurons, num_labels)) - 0.1\n",
    "\n",
    "for iteration in range(iterations):\n",
    "    \n",
    "    error = 0.0\n",
    "    correct_count = 0\n",
    "    \n",
    "    for i in range(len(images)):\n",
    "        \n",
    "        layer_0 = images[i:i+1]\n",
    "        \n",
    "        layer_1 = relu(np.dot(layer_0, weights_0_1))\n",
    "        \n",
    "        layer_2 = np.dot(layer_1, weights_1_2)\n",
    "        \n",
    "        error += np.sum( (labels[i:i+1] - layer_2) ** 2)\n",
    "        \n",
    "        correct_count = int( np.argmax(layer_2) ) == np.argmax(labels[i:i+1])\n",
    "        \n",
    "        layer_2_delta = labels[i:i+1] - layer_2\n",
    "        \n",
    "        layer_1_delta = np.dot(layer_2_delta, weights_1_2.T) * relu2deriv(layer_1)\n",
    "        \n",
    "        weights_1_2 += alpha * (np.dot(layer_1.T, layer_2_delta))\n",
    "        weights_0_1 += alpha * (np.dot(layer_0.T, layer_1_delta))\n",
    "        \n",
    "    sys.stdout.write(\"\\r\" + \" I: \" + str(iteration) + \\\n",
    "                    \" Error: \" + str(error / float(len(images))) [0:5] + \\\n",
    "                    \" Correct: \" + str(correct_count / float(len(images))))\n",
    "    \n",
    "    #from IPython.core.debugger import Tracer; Tracer()()\n",
    "        "
   ]
  },
  {
   "cell_type": "code",
   "execution_count": null,
   "metadata": {},
   "outputs": [],
   "source": []
  }
 ],
 "metadata": {
  "kernelspec": {
   "display_name": "Python 2",
   "language": "python",
   "name": "python2"
  },
  "language_info": {
   "codemirror_mode": {
    "name": "ipython",
    "version": 2
   },
   "file_extension": ".py",
   "mimetype": "text/x-python",
   "name": "python",
   "nbconvert_exporter": "python",
   "pygments_lexer": "ipython2",
   "version": "2.7.15"
  }
 },
 "nbformat": 4,
 "nbformat_minor": 2
}
