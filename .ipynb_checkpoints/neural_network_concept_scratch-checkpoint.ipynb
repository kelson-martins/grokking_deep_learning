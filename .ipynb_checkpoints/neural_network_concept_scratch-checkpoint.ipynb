{
 "cells": [
  {
   "cell_type": "code",
   "execution_count": 1,
   "metadata": {},
   "outputs": [],
   "source": [
    "# notebook to exemplify the concept of neural network. inputs --> weights --> prediction_output\n",
    "# this example implements a vector dot operation manually, making no use of numpy\n",
    "\n",
    "def w_sum(a, b):\n",
    "    \n",
    "    #enssuring vector sizes match\n",
    "    assert(len(a) == len(b))\n",
    "    \n",
    "    output = 0\n",
    "    \n",
    "    for i in range(0, len(a)):\n",
    "        output += a[i] * b[1]\n",
    "        \n",
    "    return output\n",
    "\n",
    "weights = [0.1, 0.2, 0]\n",
    "\n",
    "def neural_network(input, weights):\n",
    "    \n",
    "    pred = w_sum(input, weights)\n",
    "    \n",
    "    return pred\n",
    "\n",
    "toes    = np.array([ 8.5, 9.5, 9.9, 9.0 ])\n",
    "wlratio = np.array([ 0.65, 0.8, 0.8, 0.9 ])\n",
    "nfans   = np.array([ 1.2, 1.3, 0.5, 1.0])\n",
    "\n",
    "\n"
   ]
  },
  {
   "cell_type": "code",
   "execution_count": null,
   "metadata": {},
   "outputs": [],
   "source": []
  }
 ],
 "metadata": {
  "kernelspec": {
   "display_name": "Python 3",
   "language": "python",
   "name": "python3"
  },
  "language_info": {
   "codemirror_mode": {
    "name": "ipython",
    "version": 3
   },
   "file_extension": ".py",
   "mimetype": "text/x-python",
   "name": "python",
   "nbconvert_exporter": "python",
   "pygments_lexer": "ipython3",
   "version": "3.6.5"
  }
 },
 "nbformat": 4,
 "nbformat_minor": 2
}
