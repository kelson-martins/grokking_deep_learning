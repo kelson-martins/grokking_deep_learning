{
 "cells": [
  {
   "cell_type": "code",
   "execution_count": 13,
   "metadata": {},
   "outputs": [
    {
     "name": "stdout",
     "output_type": "stream",
     "text": [
      "[4, 10, 18]\n"
     ]
    }
   ],
   "source": [
    "# function to perform element-wise multiplication without the use of libraries\n",
    "def elementwise_multiplication(vec_a,vec_b):\n",
    "    \n",
    "    vec_c = []\n",
    "           \n",
    "    for i in range(0, len(vec_a)):\n",
    "           vec_c.append(vec_a[i] * vec_b[i])\n",
    "           \n",
    "    return vec_c\n",
    "\n",
    "vector1 = [1, 2, 3]\n",
    "vector2 = [4, 5, 6]\n",
    "\n",
    "print(elementwise_multiplication(vector1,vector2))\n",
    "           "
   ]
  },
  {
   "cell_type": "code",
   "execution_count": 14,
   "metadata": {},
   "outputs": [
    {
     "name": "stdout",
     "output_type": "stream",
     "text": [
      "[ 4 10 18]\n"
     ]
    }
   ],
   "source": [
    "# performing vector elementwise multiplication with numpy\n",
    "\n",
    "import numpy as np\n",
    "\n",
    "vector1 = [1, 2, 3]\n",
    "vector2 = [4, 5, 6]\n",
    "\n",
    "numpy_elementwise_multiplication = np.multiply(vector1, vector2)\n",
    "\n",
    "print(numpy_elementwise_multiplication)"
   ]
  },
  {
   "cell_type": "code",
   "execution_count": 15,
   "metadata": {},
   "outputs": [
    {
     "name": "stdout",
     "output_type": "stream",
     "text": [
      "[4, 10, 18]\n"
     ]
    }
   ],
   "source": [
    "# function to perform element-wise addition without the use of libraries\n",
    "def elementwise_addition(vec_a,vec_b):\n",
    "    \n",
    "    vec_c = []\n",
    "    \n",
    "    assert(len(vec_a) == len(vec_b))\n",
    "           \n",
    "    for i in range(0, len(vec_a)):\n",
    "           vec_c.append(vec_a[i] + vec_b[i])\n",
    "           \n",
    "    return vec_c\n",
    "\n",
    "vector1 = [1, 2, 3]\n",
    "vector2 = [4, 5, 6]\n",
    "\n",
    "print(elementwise_multiplication(vector1,vector2))"
   ]
  },
  {
   "cell_type": "code",
   "execution_count": 4,
   "metadata": {},
   "outputs": [
    {
     "name": "stdout",
     "output_type": "stream",
     "text": [
      "[5 7 9]\n"
     ]
    }
   ],
   "source": [
    "# elementwise addition with numpy\n",
    "\n",
    "import numpy as np\n",
    "\n",
    "vector1 = [1, 2, 3]\n",
    "vector2 = [4, 5, 6]\n",
    "\n",
    "numpy_elementwise_addition = np.add(vector1, vector2)\n",
    "print(numpy_elementwise_addition)"
   ]
  },
  {
   "cell_type": "code",
   "execution_count": 5,
   "metadata": {},
   "outputs": [
    {
     "name": "stdout",
     "output_type": "stream",
     "text": [
      "6\n"
     ]
    }
   ],
   "source": [
    "# perform vector sum without libraries\n",
    "def vector_sum(vec_a):\n",
    "    \n",
    "    vector_sum = 0\n",
    "    \n",
    "    for i in range(0, len(vec_a)):\n",
    "        vector_sum += vec_a[i]\n",
    "    \n",
    "    return vector_sum\n",
    "\n",
    "vector1 = [1, 2, 3]\n",
    "\n",
    "print(vector_sum(vector1))"
   ]
  },
  {
   "cell_type": "code",
   "execution_count": 6,
   "metadata": {},
   "outputs": [
    {
     "name": "stdout",
     "output_type": "stream",
     "text": [
      "6\n"
     ]
    }
   ],
   "source": [
    "# perform vector sum with numpy\n",
    "\n",
    "vector1 = [1, 2, 3]\n",
    "\n",
    "sum = np.sum(vector1)\n",
    "\n",
    "print(sum)"
   ]
  },
  {
   "cell_type": "code",
   "execution_count": 7,
   "metadata": {},
   "outputs": [
    {
     "name": "stdout",
     "output_type": "stream",
     "text": [
      "3.5\n"
     ]
    }
   ],
   "source": [
    "# function to retrieve vector average without the use of libraries\n",
    "def vector_average(vec_a):\n",
    "    \n",
    "    sum = 0\n",
    "    average = 0\n",
    "    \n",
    "    for i in range(0, len(vec_a)):\n",
    "        sum += vec_a[i]\n",
    "    \n",
    "    average = sum / len(vec_a)\n",
    "    \n",
    "    return average\n",
    "\n",
    "vector1 = [1, 2, 3, 4, 5, 6]\n",
    "\n",
    "vector1_avg = vector_average(vector1)\n",
    "\n",
    "print(vector1_avg)"
   ]
  },
  {
   "cell_type": "code",
   "execution_count": 8,
   "metadata": {},
   "outputs": [
    {
     "name": "stdout",
     "output_type": "stream",
     "text": [
      "3.5\n"
     ]
    }
   ],
   "source": [
    "# retrieving vector average with numpy\n",
    "\n",
    "import numpy as np\n",
    "\n",
    "vector1 = [1, 2, 3, 4, 5, 6]\n",
    "\n",
    "vector1_avg = np.average(vector1)\n",
    "\n",
    "print(vector1_avg)"
   ]
  },
  {
   "cell_type": "code",
   "execution_count": 18,
   "metadata": {},
   "outputs": [
    {
     "name": "stdout",
     "output_type": "stream",
     "text": [
      "30\n"
     ]
    }
   ],
   "source": [
    "# function to retrieve dot product of 2 vectors without the use of libraries\n",
    "\n",
    "vector1 = [1, 2, 3, 4]\n",
    "vector2 = [1, 2, 3, 4]\n",
    "\n",
    "\n",
    "vectors_multiplied = elementwise_multiplication(vector1, vector2)\n",
    "\n",
    "dot_product = vector_sum(vectors_multiplied)\n",
    "\n",
    "print(dot_product)"
   ]
  },
  {
   "cell_type": "code",
   "execution_count": 19,
   "metadata": {},
   "outputs": [
    {
     "name": "stdout",
     "output_type": "stream",
     "text": [
      "30\n"
     ]
    }
   ],
   "source": [
    "# retrieving the dot product of 2 vectors using numpy\n",
    "\n",
    "vector1 = [1, 2, 3, 4]\n",
    "vector2 = [1, 2, 3, 4]\n",
    "\n",
    "dot_product = np.dot(vector1, vector2)\n",
    "\n",
    "print(dot_product)"
   ]
  },
  {
   "cell_type": "code",
   "execution_count": null,
   "metadata": {},
   "outputs": [],
   "source": []
  }
 ],
 "metadata": {
  "kernelspec": {
   "display_name": "Python 3",
   "language": "python",
   "name": "python3"
  },
  "language_info": {
   "codemirror_mode": {
    "name": "ipython",
    "version": 3
   },
   "file_extension": ".py",
   "mimetype": "text/x-python",
   "name": "python",
   "nbconvert_exporter": "python",
   "pygments_lexer": "ipython3",
   "version": "3.6.5"
  }
 },
 "nbformat": 4,
 "nbformat_minor": 2
}
