{
 "cells": [
  {
   "cell_type": "code",
   "execution_count": 12,
   "metadata": {},
   "outputs": [
    {
     "name": "stdout",
     "output_type": "stream",
     "text": [
      "[0 1 2 3]\n",
      "[4 5 6 7]\n",
      "[[0 1 2 3]\n",
      " [4 5 6 7]]\n",
      "[[0. 0. 0. 0.]\n",
      " [0. 0. 0. 0.]]\n",
      "[[0.71732541 0.48394479 0.57699227 0.90458291 0.49924482]\n",
      " [0.88772606 0.27627565 0.14187656 0.28080265 0.85150122]]\n",
      "[0.  0.1 0.2 0.3]\n",
      "[[0.  0.2 0.4 0.6]\n",
      " [0.8 1.  1.2 1.4]]\n",
      "[ 0  5 12 21]\n",
      "[0.  1.  2.4 4.2]\n",
      "[[ 0  1  4  9]\n",
      " [ 0  5 12 21]]\n"
     ]
    }
   ],
   "source": [
    "import numpy as np\n",
    "\n",
    "a = np.array([0,1,2,3]) # a vector\n",
    "b = np.array([4,5,6,7]) # another vector\n",
    "c = np.array([[0,1,2,3],# a matrix\n",
    "             [4,5,6,7]])\n",
    "\n",
    "d = np.zeros((2,4))#(2x4 matrix of zeros)\n",
    "\n",
    "e = np.random.rand(2,5) # random 2x5 matrix with all numbers between 0 and 1\n",
    "\n",
    "print(a)\n",
    "print(b)\n",
    "print(c)\n",
    "print(d)\n",
    "print(e)\n",
    "\n",
    "\n",
    "print(a * 0.1) # multiplies every number in vector \"a\" by 0.1\n",
    "print(c * 0.2) # multiplies every number in vector \"c\" by 0.2\n",
    "print(a * b) # elementwise multiplication of a & b\n",
    "print(a * b * 0.2) # elementwise multiplication of a & b followed by multiplication of all resulted elements by 0.2\n",
    "print(a * c) # as \"c\" has 2 rows and both have same number of collumns, \n",
    "             # \"a\" is duplicated to allow element-wise multiplication\n",
    "    \n",
    "#print(a * e) # since e do not have the same number of collumns than \"a\", error is thrown"
   ]
  },
  {
   "cell_type": "code",
   "execution_count": null,
   "metadata": {},
   "outputs": [],
   "source": [
    "import numpy as np\n",
    "\n",
    "a = np.array([1,2])\n",
    "b = np.array([1,2])"
   ]
  }
 ],
 "metadata": {
  "kernelspec": {
   "display_name": "Python 3",
   "language": "python",
   "name": "python3"
  },
  "language_info": {
   "codemirror_mode": {
    "name": "ipython",
    "version": 3
   },
   "file_extension": ".py",
   "mimetype": "text/x-python",
   "name": "python",
   "nbconvert_exporter": "python",
   "pygments_lexer": "ipython3",
   "version": "3.6.5"
  }
 },
 "nbformat": 4,
 "nbformat_minor": 2
}
