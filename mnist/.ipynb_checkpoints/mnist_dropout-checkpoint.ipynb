{
 "cells": [
  {
   "cell_type": "code",
   "execution_count": null,
   "metadata": {},
   "outputs": [],
   "source": [
    "'''\n",
    "mnist deep nn implementation with dropout\n",
    "'''"
   ]
  },
  {
   "cell_type": "code",
   "execution_count": null,
   "metadata": {},
   "outputs": [
    {
     "name": "stderr",
     "output_type": "stream",
     "text": [
      "Using TensorFlow backend.\n"
     ]
    },
    {
     "name": "stdout",
     "output_type": "stream",
     "text": [
      "\n",
      "I: 0 Test Error: 0.069 Test Accuracy: 0.6333 Train-Err:0.891 Train-Acc:0.413\n",
      "I: 10 Test Error: 0.085 Test Accuracy: 0.787 Train-Err:0.472 Train-Acc:0.764"
     ]
    }
   ],
   "source": [
    "import tensorflow as tf\n",
    "import sys, numpy as np\n",
    "from keras.datasets import mnist\n",
    "\n",
    "(x_train, y_train), (x_test, y_test) = mnist.load_data()\n",
    "\n",
    "images, labels = (x_train[0:1000].reshape(1000,28*28) / 255, y_train[0:1000])\n",
    "\n",
    "one_hot_labels = np.zeros((len(labels),10))\n",
    "for i,l in enumerate(labels):\n",
    "    one_hot_labels[i][l] = 1\n",
    "labels = one_hot_labels\n",
    "\n",
    "test_images = x_test.reshape(len(x_test),28*28) / 255\n",
    "test_labels = np.zeros((len(y_test),10))\n",
    "for i,l in enumerate(y_test):\n",
    "    test_labels[i][l] = 1\n",
    "    \n",
    "np.random.seed(1)\n",
    "\n",
    "def relu(x):\n",
    "    return (x >= 0) * x\n",
    "\n",
    "def relu2deriv(x):\n",
    "    return x >= 0\n",
    "\n",
    "alpha = 0.005\n",
    "neurons = 100\n",
    "pixels = 784\n",
    "num_labels = 10\n",
    "iterations = 300\n",
    "\n",
    "weights_0_1 = 0.2 * np.random.random((pixels,neurons)) - 0.1\n",
    "weights_1_2 = 0.2 * np.random.random((neurons,num_labels)) - 0.1\n",
    "\n",
    "for iteration in range(iterations):\n",
    "    \n",
    "    error = 0.0\n",
    "    correct_count = 0\n",
    "    \n",
    "    for i in range(len(images)):\n",
    "        \n",
    "        layer_0 = images[i:i+1]\n",
    "        layer_1 = relu(np.dot(layer_0,weights_0_1))\n",
    "        \n",
    "        dropout_mask = np.random.randint(2,size=layer_1.shape)\n",
    "        layer_1 *= dropout_mask * 2\n",
    "        \n",
    "        layer_2 = np.dot(layer_1, weights_1_2)\n",
    "        \n",
    "        error += np.sum( (labels[i:i+1] - layer_2) ** 2 ) \n",
    "        \n",
    "        correct_count += int( np.argmax(layer_2) == np.argmax(labels[i:i+1]) )\n",
    "        \n",
    "        layer_2_delta = labels[i:i+1] - layer_2\n",
    "        \n",
    "        layer_1_delta = np.dot(layer_2_delta, weights_1_2.T) * relu2deriv(layer_1)\n",
    "    \n",
    "        layer_1_delta *= dropout_mask\n",
    "        \n",
    "        weights_1_2 += alpha * np.dot(layer_1.T,layer_2_delta)\n",
    "        weights_0_1 += alpha * np.dot(layer_0.T, layer_1_delta)\n",
    "        \n",
    "    if (iteration % 10 == 0):\n",
    "        \n",
    "        test_error = 0.0\n",
    "        test_correct = 0\n",
    "        \n",
    "        for i in range(len(test_images)):\n",
    "            layer_0 = test_images[i:i+1]\n",
    "            layer_1 = relu(np.dot(layer_0,weights_0_1))\n",
    "            layer_2 = np.dot(layer_1, weights_1_2)\n",
    "            \n",
    "            test_error += (np.sum(test_labels[i:i+1] - layer_2) ** 2)\n",
    "            test_correct += int( np.argmax(layer_2) == np.argmax(test_labels[i:i+1]) )\n",
    "            \n",
    "        sys.stdout.write(\"\\n\" + \\\n",
    "            \"I: \" + str(iteration) + \\\n",
    "            \" Test Error: \" + str(test_error / float(len(test_images))) [0:5] + \\\n",
    "            \" Test Accuracy: \" + str(test_correct / float(len(test_images))) + \\\n",
    "            \" Train-Err:\" + str(error/ float(len(images)))[0:5] +\\\n",
    "            \" Train-Acc:\" + str(correct_count/ float(len(images))))          "
   ]
  },
  {
   "cell_type": "code",
   "execution_count": null,
   "metadata": {},
   "outputs": [],
   "source": []
  }
 ],
 "metadata": {
  "kernelspec": {
   "display_name": "Python 3",
   "language": "python",
   "name": "python3"
  },
  "language_info": {
   "codemirror_mode": {
    "name": "ipython",
    "version": 3
   },
   "file_extension": ".py",
   "mimetype": "text/x-python",
   "name": "python",
   "nbconvert_exporter": "python",
   "pygments_lexer": "ipython3",
   "version": "3.5.5"
  }
 },
 "nbformat": 4,
 "nbformat_minor": 2
}
