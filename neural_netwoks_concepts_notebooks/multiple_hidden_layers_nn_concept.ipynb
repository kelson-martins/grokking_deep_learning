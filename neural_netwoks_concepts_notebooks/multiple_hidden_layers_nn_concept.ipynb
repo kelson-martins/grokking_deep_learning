{
 "cells": [
  {
   "cell_type": "code",
   "execution_count": 22,
   "metadata": {},
   "outputs": [
    {
     "name": "stdout",
     "output_type": "stream",
     "text": [
      "[0.2135 0.145  0.5065]\n"
     ]
    }
   ],
   "source": [
    "import numpy as np\n",
    "\n",
    "# toes %win nfans\n",
    "input_layer_weights = np.array([[0.1, 0.2, -0.1], # hid1\n",
    "                       [-0.1,0.1, 0.9], # hid2\n",
    "                       [0.1, 0.4, 0.1]]).T # hid3\n",
    "\n",
    "#print(input_layer_weights.shape)\n",
    "\n",
    "predictions_layer_weights = np.array([ \n",
    "                                    [0.3, 1.1, -0.3], #hurt?\n",
    "                                    [0.1, 0.2, 0.0 ], #win?\n",
    "                                    [0.0, 1.3, 0.1 ]]).T #sad ?\n",
    "\n",
    "weights = [input_layer_weights, predictions_layer_weights]\n",
    "\n",
    "def neural_network(input, weights):\n",
    "    \n",
    "    input_layer_weights = np.dot(input, weights[0])\n",
    "    predictions_layer_weights = np.dot(input_layer_weights, weights[1])\n",
    "    \n",
    "    return predictions_layer_weights\n",
    "    \n",
    "toes = np.array([8.5, 9.5, 9.9, 9.0])\n",
    "wlrec = np.array([0.65,0.8, 0.8, 0.9])\n",
    "nfans = np.array([1.2, 1.3, 0.5, 1.0])\n",
    "\n",
    "# making prediction based on the \"first\" game results\n",
    "input = np.array([ toes[0], wlrec[0], nfans[0] ])\n",
    "\n",
    "pred = neural_network(input, weights)\n",
    "\n",
    "print(pred)"
   ]
  },
  {
   "cell_type": "code",
   "execution_count": null,
   "metadata": {},
   "outputs": [],
   "source": []
  }
 ],
 "metadata": {
  "kernelspec": {
   "display_name": "Python 3",
   "language": "python",
   "name": "python3"
  },
  "language_info": {
   "codemirror_mode": {
    "name": "ipython",
    "version": 3
   },
   "file_extension": ".py",
   "mimetype": "text/x-python",
   "name": "python",
   "nbconvert_exporter": "python",
   "pygments_lexer": "ipython3",
   "version": "3.6.5"
  }
 },
 "nbformat": 4,
 "nbformat_minor": 2
}
