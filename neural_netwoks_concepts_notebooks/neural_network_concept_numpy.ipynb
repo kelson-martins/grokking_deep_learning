{
 "cells": [
  {
   "cell_type": "code",
   "execution_count": 12,
   "metadata": {},
   "outputs": [
    {
     "name": "stdout",
     "output_type": "stream",
     "text": [
      "0.9800000000000001\n"
     ]
    }
   ],
   "source": [
    "# notebook to exemplify the concept of neural network. inputs --> weights --> prediction_output\n",
    "# this example make use of numpy to facilitate vector operations\n",
    "\n",
    "import numpy as np\n",
    "\n",
    "weights = np.array([0.1, 0.2, 0])\n",
    "\n",
    "def neural_network(input, weights):\n",
    "    \n",
    "    pred = input.dot(weights)\n",
    "    \n",
    "    return pred\n",
    "\n",
    "toes    = np.array([ 8.5, 9.5, 9.9, 9.0 ])\n",
    "wlratio = np.array([ 0.65, 0.8, 0.8, 0.9 ])\n",
    "nfans   = np.array([ 1.2, 1.3, 0.5, 1.0])\n",
    "\n",
    "# input corresponds for a simulates \"first match\" of a team in a season\n",
    "input = np.array( [toes[0], wlratio[0], nfans[0]] )\n",
    "pred = neural_network(input, weights)\n",
    "\n",
    "print(pred)"
   ]
  },
  {
   "cell_type": "code",
   "execution_count": null,
   "metadata": {},
   "outputs": [],
   "source": []
  },
  {
   "cell_type": "code",
   "execution_count": null,
   "metadata": {},
   "outputs": [],
   "source": []
  }
 ],
 "metadata": {
  "kernelspec": {
   "display_name": "Python 3",
   "language": "python",
   "name": "python3"
  },
  "language_info": {
   "codemirror_mode": {
    "name": "ipython",
    "version": 3
   },
   "file_extension": ".py",
   "mimetype": "text/x-python",
   "name": "python",
   "nbconvert_exporter": "python",
   "pygments_lexer": "ipython3",
   "version": "3.6.5"
  }
 },
 "nbformat": 4,
 "nbformat_minor": 2
}
