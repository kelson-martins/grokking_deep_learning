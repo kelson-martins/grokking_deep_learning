{
 "cells": [
  {
   "cell_type": "code",
   "execution_count": null,
   "metadata": {},
   "outputs": [],
   "source": [
    "'''\n",
    "This notebook contains all implementations from scratch so implementing deep neural nets becomes effortless.\n",
    "This may contain several implementation of the same algorith as once in a while I am dropping by to exercise\n",
    "the mind to keep its concepts fresh in my mind\n",
    "'''"
   ]
  },
  {
   "cell_type": "code",
   "execution_count": 41,
   "metadata": {},
   "outputs": [
    {
     "name": "stdout",
     "output_type": "stream",
     "text": [
      "Error: 1.2662846978809457\n",
      "Error: 1.149169465896538\n",
      "Error: 1.0536953577479997\n",
      "Error: 0.9737004620290884\n",
      "Error: 0.9040344676169901\n",
      "Error: 0.8430356330168512\n"
     ]
    }
   ],
   "source": [
    "import numpy as np\n",
    "\n",
    "np.random.seed(1)\n",
    "\n",
    "alpha = 0.01\n",
    "\n",
    "hidden_layers = 4\n",
    "\n",
    "def relu(x):\n",
    "    return (x > 0) * x\n",
    "\n",
    "def relu2deriv(output):\n",
    "    return output > 0\n",
    "\n",
    "lights = np.array( [[ 1, 0, 1 ],\n",
    "                    [ 0, 1, 1 ],\n",
    "                    [ 0, 0, 1 ],\n",
    "                    [ 1, 1, 1 ] ] )\n",
    "\n",
    "walk_or_stop = np.array([[1,1,0,0]]).T\n",
    "\n",
    "\n",
    "weights_0_1 = 2 * np.random.random((3, hidden_layers)) - 1\n",
    "weights_1_2 = 2 * np.random.random( (hidden_layers, 1)) - 1\n",
    "\n",
    "for iteration in range(60):\n",
    "    \n",
    "    layer_2_error = 0\n",
    "    \n",
    "    for i in range(len(lights)):\n",
    "        \n",
    "        layer_0 = lights[i:i+1]\n",
    "        layer_1 = relu(np.dot(layer_0, weights_0_1))\n",
    "        layer_2 = np.dot(layer_1,weights_1_2)\n",
    "        \n",
    "        layer_2_error += np.sum( (layer_2 - walk_or_stop[i : i+1]) ** 2 )\n",
    "        layer_2_delta = layer_2 - walk_or_stop[i : i+1]\n",
    "        \n",
    "        layer_1_delta = np.dot(layer_2_delta,weights_1_2.T) * relu2deriv(layer_1)\n",
    "        \n",
    "        weights_1_2 = weights_1_2 - (alpha * np.dot(layer_1.T,layer_2_delta))\n",
    "        weights_0_1 = weights_0_1 - (alpha * np.dot(layer_0.T,layer_1_delta))\n",
    "    \n",
    "    if iteration % 10 == 9:\n",
    "        print(\"Error: \" + str(layer_2_error))"
   ]
  },
  {
   "cell_type": "code",
   "execution_count": 45,
   "metadata": {},
   "outputs": [
    {
     "name": "stdout",
     "output_type": "stream",
     "text": [
      "Error: 0.6342311598444467\n",
      "Error: 0.35838407676317513\n",
      "Error: 0.0830183113303298\n",
      "Error: 0.006467054957103705\n",
      "Error: 0.0003292669000750734\n",
      "Error: 1.5055622665134859e-05\n"
     ]
    }
   ],
   "source": [
    "import numpy as np\n",
    "\n",
    "np.random.seed(1)\n",
    "\n",
    "lights = np.array( [[ 1, 0, 1 ],\n",
    "                    [ 0, 1, 1 ],\n",
    "                    [ 0, 0, 1 ],\n",
    "                    [ 1, 1, 1 ] ] )\n",
    "\n",
    "alpha = 0.2\n",
    "\n",
    "walk_or_stop = np.array([[1,1,0,0]]).T\n",
    "\n",
    "def relu(x):\n",
    "    return(x > 0) * x\n",
    "\n",
    "def relu2deriv(output):\n",
    "    return output > 0\n",
    "\n",
    "hidden_layers = 4\n",
    "\n",
    "weights_0_1 = 2 * np.random.random((len(lights)-1,hidden_layers)) - 1\n",
    "weights_1_2 = 2 * np.random.random((hidden_layers,1)) - 1\n",
    "\n",
    "for iteration in range(60):\n",
    "    layer2_error = 0\n",
    "    # trainning all input dataset\n",
    "    for i in range(len(lights)):\n",
    "        \n",
    "        layer_0 = lights[i : i + 1]\n",
    "        layer_1 = relu( np.dot(layer_0,weights_0_1) )\n",
    "        layer_2 = np.dot(layer_1, weights_1_2)\n",
    "    \n",
    "        layer2_error += np.sum( (layer_2 - walk_or_stop[i : i+1]) ** 2 )\n",
    "        layer2_delta = layer_2 - walk_or_stop[i : i+1]\n",
    "        \n",
    "        layer_1_delta = np.dot(layer2_delta,weights_1_2.T) * relu2deriv(layer_1)\n",
    "        \n",
    "        weights_1_2 -= alpha * np.dot(layer_1.T, layer2_delta)\n",
    "        weights_0_1 -= alpha * np.dot(layer_0.T, layer_1_delta)\n",
    "    \n",
    "    if (iteration % 10 == 9):\n",
    "        print(\"Error: \" + str(layer2_error))\n",
    "\n",
    "\n",
    "\n"
   ]
  },
  {
   "cell_type": "code",
   "execution_count": null,
   "metadata": {},
   "outputs": [],
   "source": []
  }
 ],
 "metadata": {
  "kernelspec": {
   "display_name": "Python 3",
   "language": "python",
   "name": "python3"
  },
  "language_info": {
   "codemirror_mode": {
    "name": "ipython",
    "version": 3
   },
   "file_extension": ".py",
   "mimetype": "text/x-python",
   "name": "python",
   "nbconvert_exporter": "python",
   "pygments_lexer": "ipython3",
   "version": "3.6.5"
  }
 },
 "nbformat": 4,
 "nbformat_minor": 2
}
